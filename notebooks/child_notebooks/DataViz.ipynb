{
 "cells": [
  {
   "cell_type": "markdown",
   "metadata": {},
   "source": [
    "<div class=\"row\">\n",
    "    <div class=\"column\">\n",
    "        <img src=\"https://datasciencecampus.ons.gov.uk/wp-content/uploads/sites/10/2017/03/data-science-campus-logo-new.svg\"\n",
    "             alt=\"Data Science Campus Logo\"\n",
    "             align=\"right\" \n",
    "             width = \"340\"\n",
    "             style=\"margin: 0px 60px\"\n",
    "             />\n",
    "    </div>\n",
    "    <div class=\"column\">\n",
    "        <img src=\"https://cdn.ons.gov.uk/assets/images/ons-logo/v2/ons-logo.svg\"\n",
    "             alt=\"ONS Logo\"\n",
    "             align=\"left\" \n",
    "             width = \"420\"\n",
    "             style=\"margin: 0px 30px\"/>\n",
    "    </div>\n",
    "</div>"
   ]
  },
  {
   "cell_type": "code",
   "execution_count": null,
   "metadata": {},
   "outputs": [],
   "source": [
    "# import the helper functions from the parent directory,\n",
    "# these help with things like graph plotting and notebook layout\n",
    "import sys\n",
    "sys.path.append('../..')\n",
    "from helper_functions import *\n",
    "\n",
    "# set things like fonts etc - comes from helper_functions\n",
    "set_notebook_preferences()\n",
    "\n",
    "# add a show/hide code button - also from helper_functions\n",
    "toggle_code(title = \"import functions\")"
   ]
  },
  {
   "cell_type": "markdown",
   "metadata": {},
   "source": [
    "# Intermediate Python: Vignette on Visualisation\n",
    "\n",
    "## Developers\n",
    "\n",
    "<font size=\"+0.5\">Daniel Lewis</font>   \n",
    "(<daniel.j.lewis@ons.gov.uk>)  \n",
    "<font size=\"+0.5\">Jhai Ghaghada</font>   \n",
    "(<jhai.ghaghada@ons.gov.uk>)\n",
    "\n",
    "## Reviewer\n",
    "<font size=\"+0.5\">Kaveh Jahanshahi</font>   \n",
    "(<kaveh.jahanshahi@ons.gov.uk>) "
   ]
  },
  {
   "cell_type": "markdown",
   "metadata": {},
   "source": [
    "## Table of Contents\n",
    "<a href=\"#Background\"><font size=\"+1\">Background</font></a>\n",
    "* Learning Objectives\n",
    "* Matplotlib\n",
    "* Getting Started - an important piece of magic!\n",
    "* Objects in matplotlib\n",
    "\n",
    "<a href=\"#Basic-Plotting\"><font size=\"+1\">Basic Plotting</font></a>\n",
    "* Using `plt.subplots()`\n",
    "* Bar Charts\n",
    "* Scatter Plots\n",
    "* Pie Charts\n",
    "* <a href=\"#Exercise-1\">Exercise 1</a>\n",
    "* Box Plots\n",
    "* Multiple Axes\n",
    "* Histograms\n",
    "* <a href=\"#Exercise-2\">Exercise 2</a>\n",
    "* Saving/Exporting Plots\n",
    "\n",
    "<a href=\"#Consolidation\"><font size=\"+1\">Consolidation</font></a>\n",
    "* Seaborn\n",
    "* Bokeh"
   ]
  },
  {
   "cell_type": "markdown",
   "metadata": {},
   "source": [
    "# Background\n",
    "\n",
    "### Learning Objectives\n",
    "\n",
    "The goal of this session is to:\n",
    "\n",
    "* Become familiar with plotting using matplotlib\n",
    "* Experiment with a range of different plot types:\n",
    "\n",
    "### 1. Matplotlib\n",
    "\n",
    "'Matplotlib' is python's core plotting library. If you want to produce graphical summaries of data it is a good place to start, as simple graphs can be created relatively quickly. Matplotlib is also a really useful library to understand basic plotting functionality in general, understanding some matplotlib will really help you out even if you ultimately end up using one of:\n",
    "\n",
    "* seaborn - makes basic matplotlib plotting look nice, and adds some more advanced plot types, like violin plots, strip plots, kde plots etc. Open-source.\n",
    "* bokeh - interactive visualisation for web. Open source.\n",
    "* plotnine - a port of R's established ggplot2 library. Open-source.\n",
    "\n",
    "In general, when using matplotlib, you go through the following process:\n",
    "1. Create a figure with one or more axes, each axis is effectively a blank canvas.\n",
    "2. Plot some data onto the axes using one or more graph types.\n",
    "3. Decorate and adjust the visual aspects of the plot (e.g. labels, ticks, titles etc.)\n",
    "\n",
    "This will become clearer as you learn how to make plots!\n",
    "\n",
    "### Getting Started\n",
    "\n",
    "The cells below show how you can import matplotlib."
   ]
  },
  {
   "cell_type": "code",
   "execution_count": null,
   "metadata": {},
   "outputs": [],
   "source": [
    "import pandas as pd\n",
    "import matplotlib.pyplot as plt\n",
    "\n",
    "%matplotlib inline"
   ]
  },
  {
   "cell_type": "markdown",
   "metadata": {},
   "source": [
    "In the import above, you have imported pandas, which should be familiar, as well as matplotlib:\n",
    "\n",
    "```python\n",
    "import matplotlib.pyplot as plt\n",
    "```\n",
    "\n",
    "A specific module of matplotlib called pyplot is commonly used for plotting, this allows plots to be made using the same approach that is implemented by MATLAB. I'm not entirely sure why the decision to align with MATLAB was made, however it is now the standard way of producing plots in python!\n",
    "\n",
    "As you can see, the pyplot module of matplotlib is imported with the nickname, or alias, `plt`.\n",
    "\n",
    "In addition, I have included a magic command, `%matplotlib inline`, this is a **really** useful magic to include as it means that any plot we produce will be automatically embedded below the code cell once the code to make it has been executed.\n",
    "\n",
    "Try the code cell below for a quick example."
   ]
  },
  {
   "cell_type": "code",
   "execution_count": null,
   "metadata": {},
   "outputs": [],
   "source": [
    "# make some data - the cube function\n",
    "\n",
    "# list of numbers -10 to +10\n",
    "x = list(range(-10,11))\n",
    "\n",
    "# cubes of x\n",
    "y = []\n",
    "for num in x:\n",
    "    y.append(num**3)\n",
    "# NB: a oneliner for this is: [i**3 for i in x] this is a 'list comprehension'\n",
    "    \n",
    "# Make an axis and plot the data! Hopefully it will appear below the cell!\n",
    "fig, ax = plt.subplots()\n",
    "ax.plot(x,y);"
   ]
  },
  {
   "cell_type": "markdown",
   "metadata": {},
   "source": [
    "## Objects in matplotlib\n",
    "\n",
    "Working with matplotlib requires at least a vague understand of the main objects that matplotlib uses to make plots: figure and axes.\n",
    "\n",
    "### The `Figure` object\n",
    "\n",
    "The `Figure` object is the outermost container for a plot. A simple `Figure` contains one `Axes` object, but can contain multiple `Axes` objects. In addition, the `Figure` also contains and manages other objects associated with plot (e.g. titles, legends etc.)\n",
    "\n",
    "### The `Axes` object\n",
    "\n",
    "The `Axes` object is effectively the plot itself and is the main thing you work with when creating a plot. An `Axes` is composed of many objects which can be used to define what is actually represented in the plot. There are a large number of `Axes` methods that allow you to create particular types of plot, like line graphs, bar charts, scatter plots and so on. In addition, many of the objects that comprise an `Axes` can be set from the `Axes` object, the axis labels, ticks, ranges and so on.\n",
    "\n",
    "### Other matplotlib objects\n",
    "\n",
    "You might also see references to `Axis` objects which sit inside `Axes` and set graph limits and ticks, `Locator` objects which set tick locations, `Formatter` objects which format labels, as well as the more generic `Artist` object from which all kinds of useful objects like `Line2D`, `Patch` etc. derive. Although you can interact with all these matplotlib objects to tailor an output, most of the time you can do everything you need through the `Axes` object."
   ]
  },
  {
   "cell_type": "markdown",
   "metadata": {},
   "source": [
    "# 2. Basic Plotting\n",
    "\n",
    "Let's load the titanic dataset and start to explore plotting."
   ]
  },
  {
   "cell_type": "code",
   "execution_count": null,
   "metadata": {},
   "outputs": [],
   "source": [
    "titanic = pd.read_csv('../../Data/titanic.csv')\n",
    "titanic.head()"
   ]
  },
  {
   "cell_type": "markdown",
   "metadata": {},
   "source": [
    "When we make plots, we're not going to call `plt` directly, although this is possible. Instead we will create an axis object that we can then manipulate. This will approach ultimately prove *really* useful, particularly when you come to style your plot or make figures with multiple axes.\n",
    "\n",
    "## Using `plt.subplots()`\n",
    "\n",
    "In order to use matplotlib objects effectively for plotting we always start with the same call:\n",
    "```python\n",
    "fig, ax = plt.subplots()\n",
    "```\n",
    "This code creates an instance of a figure (`fig`) with a single axis (`ax`). This is because the default call is effectively:\n",
    "```python\n",
    "fig, ax = plt.subplots(nrows = 1, ncols = 1)\n",
    "```\n",
    "Setting nrows and ncols to values > 1 creates multiple axes in a grid formation. These axes can be further customised using the [gridspec](https://matplotlib.org/tutorials/intermediate/gridspec.html) module, but that is a more advanced undertaking.\n",
    "\n",
    "Often, the most useful parameter is figsize, which allows you to set the width and height of the figure in inches.\n",
    "```python\n",
    "fig, ax = plt.subplots(figsize = (8,8))\n",
    "```\n",
    "All of our plots will start with this syntax.\n",
    "\n",
    "## 3. Bar Charts\n",
    "\n",
    "Have a look at the basic plot below. It uses the `.barh()` method of `ax` (the `Axes` object we created and called `ax`). This tells matplotlib to create a horizontal bar chart. We could also use `.bar()` to create a vertical bar chart."
   ]
  },
  {
   "cell_type": "code",
   "execution_count": null,
   "metadata": {},
   "outputs": [],
   "source": [
    "# Firstly, as the titanic data are disaggregate we need to aggregate!\n",
    "survivors = titanic['survived'].value_counts(normalize=True)"
   ]
  },
  {
   "cell_type": "code",
   "execution_count": null,
   "metadata": {},
   "outputs": [],
   "source": [
    "# Now lets make a simple bar chart of survivors.\n",
    "\n",
    "# create a figure and an axis instance- the default is nrow=1 and ncol=1\n",
    "fig, ax = plt.subplots(figsize=(8,4))\n",
    "\n",
    "# Use the axis to plot a horizontal bar chart.\n",
    "ax.barh(survivors.index,survivors, tick_label = survivors.index)\n",
    "\n",
    "# Now we need to decorate the plot\n",
    "ax.set_xlabel('Proportion of Passengers')\n",
    "ax.set_ylabel('Survived')\n",
    "ax.set_title('Titanic Passenger Survival');"
   ]
  },
  {
   "cell_type": "markdown",
   "metadata": {},
   "source": [
    "The above code has several steps:\n",
    "1. Data preparation - the `titanic` DataFrame is aggregated by 'survived' and normalized (refer to [aggregation](Aggregation.ipynb) section for more info).\n",
    "2. Create Figure and Axes instance - a figure of size 8x4 inches is created with a single axes.\n",
    "3. Make `barh()` plot - the horizontal barchart here takes 3 parameters:\n",
    "    * `survivors.index` positions the bars on the y-axis by index position.\n",
    "    * `survivors` provides the values to plot.\n",
    "    * `tick_label = survivors.index` labels the bars according to their index value, 0 or 1.\n",
    "4. Decorate the Axes - an xlabel, ylabel and title are added using Axes object set methods.\n",
    "\n",
    "The basic bar chart is then displayed below the code cell.\n",
    "\n",
    "Pandas also implements a simple interface to matplotlib, which is a bit friendlier and you may prefer to use:"
   ]
  },
  {
   "cell_type": "code",
   "execution_count": null,
   "metadata": {
    "scrolled": true
   },
   "outputs": [],
   "source": [
    "# create a figure and an axis instance\n",
    "fig, ax = plt.subplots(figsize=(8,4))\n",
    "\n",
    "# pandas plot method uses the axis instance created above\n",
    "survivors.plot(kind='barh', ax=ax)\n",
    "\n",
    "# Decorate\n",
    "ax.set_title('Titanic Passenger Survival')\n",
    "ax.set_xlabel('Proportion of Passengers')\n",
    "ax.set_ylabel('Survived');"
   ]
  },
  {
   "cell_type": "markdown",
   "metadata": {},
   "source": [
    "In the cell above, the pandas `.plot()` method creates a figure and axes for a particular `kind` of plot, for a specfic axes instance `ax`. It implements a range of parameters to set particular properties, and additional decoration can be conducted on the axes itself.\n",
    "\n",
    "Pandas is really useful for making more sophisticated plots in a simple way. For instance, if we wanted a survivor bar chart additionally grouped by passenger class, we could do the following:"
   ]
  },
  {
   "cell_type": "code",
   "execution_count": null,
   "metadata": {},
   "outputs": [],
   "source": [
    "# create a figure and an axis instance\n",
    "fig, ax = plt.subplots(figsize=(8,4))\n",
    "\n",
    "# Get survivor proportions by passenger classes\n",
    "titanic.groupby('pclass')['survived'].mean().plot(kind='barh', ax=ax)\n",
    "\n",
    "# Decorate\n",
    "ax.set_title('Titanic Passenger Survival by Class')\n",
    "ax.set_xlabel('Proportion of Passengers Survived')\n",
    "ax.set_ylabel('Passenger Class');"
   ]
  },
  {
   "cell_type": "markdown",
   "metadata": {},
   "source": [
    "Breaking this down, we can see that the important work is being done by pandas. In a single line, we:\n",
    "* group the titanic data by passenger class ('pclass') effectively splitting the data into 3 dataframes.\n",
    "* Take just the 'survived' variable from the grouped dataframe.\n",
    "* Take the mean of survived (here working out to be the proportion) for each 'pclass'\n",
    "* plot the resultant dataframe as a horizontal bar chart.\n",
    "\n",
    "We could take this further using nested groups, for instance a bar chart grouped by passenger sex and passenger class:"
   ]
  },
  {
   "cell_type": "code",
   "execution_count": null,
   "metadata": {},
   "outputs": [],
   "source": [
    "# create a figure and an axis instance\n",
    "fig, ax = plt.subplots(figsize=(8,4))\n",
    "\n",
    "# Get survivor proportions by passenger classes\n",
    "titanic.groupby(['pclass','sex'])['survived'].mean().plot(kind='barh', color = ['dodgerblue','indianred'] * 3, ax=ax)\n",
    "\n",
    "# make bespoke legend\n",
    "from matplotlib.patches import Patch\n",
    "ax.legend(handles = [Patch(facecolor = 'indianred',label='Male'), Patch(facecolor = 'dodgerblue',label='Female')])\n",
    "\n",
    "# Decorate\n",
    "ax.set_title('Titanic Passenger Survival by Passenger Sex and Class')\n",
    "ax.set_xlabel('Proportion Survived')\n",
    "ax.set_ylabel('Passenger Class')\n",
    "ax.set_yticklabels([1,1,2,2,3,3])\n",
    "ax.xaxis.grid();"
   ]
  },
  {
   "cell_type": "markdown",
   "metadata": {},
   "source": [
    "The code for the above bar chart looks more complicated. This is because I've adjusted the styling so that the Male and Female groups are picked out by the bar colour, rather than being an access label, which would be the default.\n",
    "\n",
    "This means specifying the `color` to use for 'male' and 'female': `['dodgerblue','indianred']` which are `* 3` to cover each male/female pair for each passenger class (1, 2, 3). This produces the list: `['dodgerblue','indianred','dodgerblue','indianred','dodgerblue','indianred']` which gives a colour for each bar in the bar chart.\n",
    "\n",
    "I also had to make a bespoke legend to identify the bar colours. I used `Patch` objects for this, Patches have a 'facecolor' and corresponding 'label'. I create a list of the appropriate number of patches, here 2, and pass that list to the 'handles' parameter of the `axes` object's `.legend()` method. In long form this would look like:\n",
    "```python\n",
    "# import Patch artist object\n",
    "from matplotlib.patches import Patch\n",
    "\n",
    "# make 2 patches\n",
    "male_patch = Patch(facecolor = 'indianred',label='Male')\n",
    "female_patch = Patch(facecolor = 'dodgerblue',label='Female')\n",
    "\n",
    "# make list of patches\n",
    "patches = [male_patch, female_patch]\n",
    "\n",
    "# pass to axes legend object.\n",
    "ax.legend(handles = patches)\n",
    "```\n",
    "However, this is done above with two lines:\n",
    "```python\n",
    "# import Patch artist object\n",
    "from matplotlib.patches import Patch\n",
    "# make bespoke legend\n",
    "ax.legend(handles = [Patch(facecolor = 'indianred',label='Male'), Patch(facecolor = 'dodgerblue',label='Female')])\n",
    "```\n",
    "The legend is automatically positioned in what matplotlib computes to be a 'good' place, however you can change this if you wish. Use the 'loc' parameter with either the string or the number code:\n",
    "\n",
    "|Location String|\tLocation Code|\n",
    "|--|--|\n",
    "|'best'\t|0|\n",
    "|'upper right'\t|1|\n",
    "|'upper left'\t|2|\n",
    "|'lower left'\t|3|\n",
    "|'lower right'\t|4|\n",
    "|'right'\t|5|\n",
    "|'center left'\t|6|\n",
    "|'center right'\t|7|\n",
    "|'lower center'\t|8|\n",
    "|'upper center'\t|9|\n",
    "|'center'\t|10|\n",
    "\n",
    "NB the default 'loc' is 'best'."
   ]
  },
  {
   "cell_type": "markdown",
   "metadata": {},
   "source": [
    "## 4. Scatter Plots\n",
    "\n",
    "Scatter plots are useful for visually exploring the association between two variables.\n",
    "\n",
    "The titanic dataset doesn't have much continuous data in it, but lets explore the relationship between fare and age."
   ]
  },
  {
   "cell_type": "code",
   "execution_count": null,
   "metadata": {},
   "outputs": [],
   "source": [
    "# Make a figure and an axis\n",
    "f, ax = plt.subplots(figsize=(7,7))\n",
    "\n",
    "# Make a scatter plot with 'x' markers and a mid-grey colour.\n",
    "ax.scatter(titanic['fare'],titanic['age'], marker = 'x', color = '0.5')\n",
    "\n",
    "# decorate the plot\n",
    "ax.set_xlabel('Fare')\n",
    "ax.set_ylabel('Age')"
   ]
  },
  {
   "cell_type": "markdown",
   "metadata": {},
   "source": [
    "In the above plot we specify the x and y axis values as well as some styling parameters ('color' and 'marker').\n",
    "\n",
    "The color parameter can take a range of values:\n",
    "* matplotlib built-in colours: 'b' (blue); 'g' (green); 'r' (red); 'c' (cyan); 'm' (magenta); 'y' (yellow); 'k' (black); 'w' (white).\n",
    "* Grayscale - string values between 0 and 1. e.g '0.5' for mid-grey, '0.0' for black, '1.0' for white.\n",
    "* Legal names - X11 colour name scan be used (e.g. dodgerblue or indianred) see: https://en.wikipedia.org/wiki/X11_color_names#Color_name_chart\n",
    "* RGB tuples - you can express a colour as an RGB tuple e.g. (0.54, 0.17, 0.89) gives 'blueviolet'.\n",
    "* Web colours - hexidecimal colours also work e.g. '#DC143C' for Crimson.\n",
    "\n",
    "There are a wide range of marker styles, see here for details: https://matplotlib.org/api/markers_api.html\n",
    "\n",
    "Let's take the plot above and add a best-fit line to it. We'll use statsmodels to do this, for more information on using statsmodels have a look at the other vignette. We have courses and notes on introduction to Machine Learning and practical machine learning with R and Python which are covering further the theory and application of statistical models."
   ]
  },
  {
   "cell_type": "code",
   "execution_count": null,
   "metadata": {},
   "outputs": [],
   "source": [
    "# Firstly, get the OLS model from the statsmodels library\n",
    "# OLS means ordinary least square - a linear regression estimator.\n",
    "from statsmodels.api import OLS"
   ]
  },
  {
   "cell_type": "code",
   "execution_count": null,
   "metadata": {},
   "outputs": [],
   "source": [
    "# Now we can regress fare against age.\n",
    "model = OLS.from_formula('age ~ fare', data = titanic).fit()\n",
    "\n",
    "# predict some points to make a line\n",
    "pred = pd.DataFrame(data = {'fare':[0,titanic['fare'].max()]})\n",
    "pred['y_hat'] = model.predict(pred)"
   ]
  },
  {
   "cell_type": "code",
   "execution_count": null,
   "metadata": {},
   "outputs": [],
   "source": [
    "# Now draw the plot\n",
    "# Make a figure and an axis\n",
    "f, ax = plt.subplots(figsize=(7,7))\n",
    "\n",
    "# Make a scatter plot with 'x' markers and a mid-grey colour.\n",
    "ax.scatter(titanic['fare'],titanic['age'], marker = 'x', color = '0.5', label = 'Passengers')\n",
    "\n",
    "# add the best fit line\n",
    "ax.plot(pred['fare'],pred['y_hat'], color='r', label = 'Best Fit Line')\n",
    "\n",
    "# Add a legend\n",
    "ax.legend()\n",
    "\n",
    "# decorate the plot\n",
    "ax.set_xlabel('Fare')\n",
    "ax.set_ylabel('Age')"
   ]
  },
  {
   "cell_type": "markdown",
   "metadata": {},
   "source": [
    "In the above example I am plotting two graphs (a scatter and a line) on the same axis. Note how adding a label to the plot command (either `.scatter()` or `.plot()` in this case) means that label is pulled in by the legend.\n",
    "\n",
    "Although we've not expressly looked at it, `.plot()` is how you would plot a line graph.\n",
    "\n",
    "Below is a more complex example, in particular note how the `.map()` function allows us to specify marker colours."
   ]
  },
  {
   "cell_type": "code",
   "execution_count": null,
   "metadata": {},
   "outputs": [],
   "source": [
    "# Now draw the plot\n",
    "# Make a figure and an axis\n",
    "f, ax = plt.subplots(figsize=(7,7))\n",
    "\n",
    "# Now we can regress fare against age.\n",
    "model = OLS.from_formula('age ~ fare + sex', data = titanic).fit()\n",
    "\n",
    "# predict some points to make a line\n",
    "pred = pd.DataFrame(data = {'fare':[0,titanic['fare'].max()] * 2, 'sex':['male']*2 +['female']*2})\n",
    "pred['y_hat'] = model.predict(pred)\n",
    "\n",
    "# Make list of colours\n",
    "colours = titanic['sex'].map({'female': 'indianred', 'male': 'dodgerblue'})\n",
    "# Make a scatter plot with 'x' markers and colour by sex.\n",
    "ax.scatter(titanic['fare'],titanic['age'], marker = 'x', color = colours, label = 'Passengers')\n",
    "\n",
    "cols = {'female': 'darkred', 'male': 'darkblue'}\n",
    "# add the best fit lines, using pandas plotting\n",
    "for label, df in pred.groupby('sex'):\n",
    "    # NB pandas adds the legend automatically\n",
    "    df.plot(x = 'fare', y = 'y_hat', color = cols[label], label = label, ax=ax)\n",
    "\n",
    "# decorate the plot\n",
    "ax.set_xlabel('Fare')\n",
    "ax.set_ylabel('Age');"
   ]
  },
  {
   "cell_type": "markdown",
   "metadata": {},
   "source": [
    "Although the code for the above plot is getting a little complicated, hopefully it demonstrates the flexibility of matplotlib. The underpinning philosophy of matplotlib is that it should make simple plots easy, and complicated plots possible! Ideally, you will be able to create a simple plot with just a few commands.\n",
    "\n",
    "## 5. Pie Charts\n",
    "\n",
    "Let's move onto looking at pie charts. As a rule of thumb, a pie chart shouldn't have more than 6 wedges, otherwise the chart becomes very hard to read.\n",
    "\n",
    "The pie chart function, `.pie()` is quite straightforward, at its simplest it requires only a single parameter, the data counts to be divided into pie slices.\n",
    "\n",
    "## Exercise 1\n",
    "\n",
    "See if you can work out how to make a pie chart. We'll try and do things in stages.\n",
    "\n",
    "<u>Stage 1</u>\n",
    "\n",
    "Let's represent the passenger class variable ('pclass') as a pie chart.\n",
    "* First, get counts of the 'pclass' column values (Hint: try using `.value_counts()`), store as an object called 'pclass_count'.\n",
    "* Now, make a figure and an axis instance, set figsize to (8,8).\n",
    "* Call `ax.pie()` and give it the pclass_count object.\n",
    "* Label the pie slices using the `labels` parameter by passing the index of  pclass_count.\n",
    "\n",
    "<u>Stage 2</u>\n",
    "\n",
    "* Make the wedge labels bigger. First make a dictionary with the key:value pair 'fontsize':12, and pass this to the `textprops` parameter of `ax.pie()`.\n",
    "* Improve the look of the pie chart by passing a list of colours to the `colors` parameter of `ax.pie()`, for instance:\n",
    "    * `colors = ['r','g','b']` for a really basic red-green-blue\n",
    "    * `colors = ['lightseagreen','lightcoral','lightsteelblue']` for some nice named colours.\n",
    "    * `colors = ['#a6cee3','#1f78b4','#b2df8a']` which are colourblind safe.\n",
    "    * `colors = ['0.2','0.5','0.8']` which are shades of grey.\n",
    "* Assign the value %.1f to the parameter `autopct`, this labels the wedges with their percentages to 1 decimal place.\n",
    "* Add a title to the axis that reads \"Titanic Passengers by Passenger Class\"\n",
    "\n",
    "<u>Stage 3</u>\n",
    "\n",
    "* If you are happy, save the figure and see what it looks like!  \n",
    "\n",
    "If you get stuck or are unsure, have a look at the solution. This is a fiddly process that it takes a bit of hands on experience to get used to!"
   ]
  },
  {
   "cell_type": "code",
   "execution_count": null,
   "metadata": {},
   "outputs": [],
   "source": [
    "## Type code in here - add more cells if you need to. Make sure you have hidden the answers\n",
    "## to avoid seeing the solution unintentionally\n"
   ]
  },
  {
   "cell_type": "code",
   "execution_count": null,
   "metadata": {
    "scrolled": true
   },
   "outputs": [],
   "source": [
    "## sort_index sort the data alphabetically based on index\n",
    "#Pass_Class = titanic['pclass'].value_counts().sort_index()\n",
    "#fig,ax = plt.subplots(figsize=(7,7))\n",
    "#ax.pie(Pass_Class, labels = ('C1','C2','C3'))\n",
    "\n",
    "toggle_code()"
   ]
  },
  {
   "cell_type": "markdown",
   "metadata": {},
   "source": [
    "## 6. Box Plots\n",
    "\n",
    "A box plot is a useful way of describing the distribution of a continuous variable, and lends itself to being grouped. A standard box plot has two components:\n",
    "* The box - representing the quartiles of the data (the 25th, 50th (i.e. median) and 75th percentiles)\n",
    "* The whiskers - representing the distance to the first data point ± 1.5 times the interquartile range of the data.\n",
    "\n",
    "Taken together, a box plot gives an indication of the dispersion (spread), skew (symmetry about the median), and outliers of a variable."
   ]
  },
  {
   "cell_type": "code",
   "execution_count": null,
   "metadata": {},
   "outputs": [],
   "source": [
    "# simple boxplot\n",
    "f, ax = plt.subplots(figsize = (4,6))\n",
    "\n",
    "# remove na values from 'fare'\n",
    "fare = titanic[titanic['fare'].notnull()]['fare']\n",
    "\n",
    "# make a boxplot\n",
    "ax.boxplot(fare)\n",
    "\n",
    "# label the y axis\n",
    "ax.set_ylabel('Fare');"
   ]
  },
  {
   "cell_type": "markdown",
   "metadata": {},
   "source": [
    "In the plot above it is clear that the 'fare' variable is positively skewed, there are a long tail of outliers and the median is towards the bottom of the box.\n",
    "\n",
    "We should be able to see a difference by sex, so we will group the boxplot."
   ]
  },
  {
   "cell_type": "code",
   "execution_count": null,
   "metadata": {},
   "outputs": [],
   "source": [
    "# simple boxplot\n",
    "f, ax = plt.subplots(figsize = (6,6))\n",
    "\n",
    "# remove na values\n",
    "fare = titanic[titanic['fare'].notnull()]\n",
    "\n",
    "# make a boxplot\n",
    "grps = fare.groupby('sex')['fare']\n",
    "\n",
    "ax.boxplot([grps.get_group('male'),grps.get_group('female')], labels=['male','female'])\n",
    "\n",
    "# label the y axis\n",
    "ax.set_ylabel('Fare');"
   ]
  },
  {
   "cell_type": "markdown",
   "metadata": {},
   "source": [
    "The grouped box plots are slightly awkward - you have to pass a list in which each list item is a set of data to be plotted. Here I make a `.groupby()` object, and then assign the groups to a list using the `.get_group()` method.\n",
    "\n",
    "## 7. Histograms\n",
    "\n",
    "Possibly the most commonly used data visualisation approach, histograms are another way of inspecting the distribution of a  variably (usually continuous, but possible discrete variables like counts). They work by putting data into 'bins' according to their value, counting the number of data points in each bin, and then plotting these frequencies.\n",
    "\n",
    "The trickiest part is selecting the correct bin size, too many bins and the histogram is too discretising (bumpy), too few and it is too general (smooth)."
   ]
  },
  {
   "cell_type": "code",
   "execution_count": null,
   "metadata": {},
   "outputs": [],
   "source": [
    "# histogram of the distribution of fares\n",
    "f, ax = plt.subplots(figsize = (8,5))\n",
    "\n",
    "ax.hist(titanic['fare'], bins = 20)\n",
    "\n",
    "ax.set_xlabel(\"Fare\")\n",
    "ax.set_ylabel(\"Frequency\");"
   ]
  },
  {
   "cell_type": "markdown",
   "metadata": {},
   "source": [
    "Looking at the histogram above, it's clear that the fare variable is not normally distributed. If we were going to use it to report an average to represent a typical value, or as a dependent variable in a linear model, we may wish to tranform it.\n",
    "\n",
    "## 8. Multiple Axes\n",
    "\n",
    "Using the `plt.subplots()` method defaults we've been creating figures with a single axis onto which we've been plotting. It is straightforward then to create additional axes within the figure and make multiple plots. The axes will be composed as a grid of `nrows` and `ncols`, and will produce a single figure as normal and an array of axes instances to plot on. As we have done previously, it can be useful to 'unpack' the axes instances. Compare these two snippets of code:\n",
    "\n",
    "```python\n",
    "f, axes = plt.subplots(ncols = 2)\n",
    "```\n",
    "and\n",
    "```python\n",
    "f, (ax1, ax2) = plt.subplots(ncols = 2)\n",
    "```\n",
    "In the first code snippet, the axes are obtained by specifying `axes[0]` and `axes[1]`, whereas in the second the axes are separately references as `ax1` or `ax2`.\n",
    "\n",
    "When making multiple axes instances, the `sharex` and `sharey` parameter (`False` by default) are useful if you are looking at the same data on a particular axis."
   ]
  },
  {
   "cell_type": "code",
   "execution_count": null,
   "metadata": {},
   "outputs": [],
   "source": [
    "# sharey as both axis will be survived proportion.\n",
    "f, (ax1, ax2) = plt.subplots(1,2,figsize=(12,6), sharey = True)\n",
    "\n",
    "# Plot ax1\n",
    "titanic.groupby('embarked')['survived'].mean().plot(kind='bar', ax=ax1)\n",
    "# decorate ax1\n",
    "ax1.set_xticklabels(['Cherbourg','Queenstown','Southampton'], rotation = 0)\n",
    "ax1.set_xlabel('Port of Embarkation')\n",
    "ax1.set_ylabel('Proportion of Passengers who Survived')\n",
    "\n",
    "# Plot ax2\n",
    "titanic.groupby('sex')['survived'].mean().plot(kind='bar', color = ['cadetblue','chocolate'], ax=ax2)\n",
    "# decorate ax2\n",
    "ax2.set_xticklabels(['Female','Male'], rotation = 0)\n",
    "ax2.set_xlabel('Passenger Sex')\n",
    "\n",
    "# Add a figure title\n",
    "f.suptitle(\"Titanic Survival by Passenger Port of Embarkation and by Sex\");"
   ]
  },
  {
   "cell_type": "markdown",
   "metadata": {},
   "source": [
    "## Exercise 2\n",
    "\n",
    "In this section, we've looked at the plotting functions `.bar()`/`.barh()`, `.pie()`, `.scatter()`, `.boxplot()`, `.hist()` and `.plot()`. We've made a number of simple and more complicated plots to demonstrate the power of matplotlib.\n",
    "\n",
    "Let's have a go at making some of the plots that we've encountered. Try to add appropriate decoration. If you don't know how to do something trying googling for the answer! (There is masses of matplotlib help on stackoverflow etc. as it is such a widely used package).\n",
    "\n",
    "1. Create a bar chart showing the proportion of people who embarked in Southampton, Cherbourg, and Queenstown.\n",
    "2. Create a new variable called 'child' which is 1 if the passenger is < 18 and 0 otherwise. Create a plot of survival proportion by 'child'.\n",
    "3. Create a histogram of 'age', what does the distribution look like?\n",
    "4. Create a grouped boxplot of fare by place of embarkation.\n",
    "5. Create a figure with two axes.\n",
    "    * On axis 1 put the plot from question 2 (child against survived proportion).\n",
    "    * On axis 2 put a bar plot of lone passengers against survived proportion. Assume that lone passengers have `sibsp` and `parch` equal to 0."
   ]
  },
  {
   "cell_type": "code",
   "execution_count": null,
   "metadata": {},
   "outputs": [],
   "source": [
    "# Start coding here, you'll probably need to add more cells.\n"
   ]
  },
  {
   "cell_type": "code",
   "execution_count": null,
   "metadata": {},
   "outputs": [],
   "source": [
    "# Exercise 2.1 solutions\n",
    "\n",
    "#f, ax = plt.subplots(figsize = (6,8))\n",
    "\n",
    "# aggregate the data\n",
    "#embark = titanic['embarked'].value_counts(normalize = True)\n",
    "\n",
    "# labels\n",
    "#cities = {'S':'Southampton', 'Q':'Queenstown', 'C':'Cherbourg'}\n",
    "\n",
    "# plot the data\n",
    "#ax.bar(x = embark.index, \n",
    "#       height = embark, \n",
    "#       tick_label = embark.index.map(cities), \n",
    "#       color = ['#66c2a5','#fc8d62','#8da0cb'])\n",
    "\n",
    "# decorate the plot\n",
    "#ax.set_ylabel('Proportion of Passengers')\n",
    "#ax.set_title('Proportion of Titanic Passengers by Embarkation City')\n",
    "\n",
    "toggle_code(title='Solutions')"
   ]
  },
  {
   "cell_type": "code",
   "execution_count": null,
   "metadata": {},
   "outputs": [],
   "source": [
    "# Exercise 2.2 solutions\n",
    "\n",
    "# create child variable\n",
    "#titanic['child'] = (titanic['age'] < 18).astype(int)\n",
    "\n",
    "# create a figure and an axis instance\n",
    "#fig, ax = plt.subplots(figsize=(8,4))\n",
    "\n",
    "# Get survivor proportions by passenger classes\n",
    "#titanic.groupby('child')['survived'].mean().plot(kind='bar', color = ['hotpink','goldenrod'], ax=ax)\n",
    "\n",
    "# Decorate\n",
    "#ax.set_title('Titanic Passenger Survival by Age Group')\n",
    "#ax.set_ylabel('Proportion of Passengers Survived')\n",
    "#ax.set_xlabel('Age Group')\n",
    "#ax.set_xticklabels(['Adult', 'Child'], rotation = 0);\n",
    "\n",
    "toggle_code(title='Solutions')"
   ]
  },
  {
   "cell_type": "code",
   "execution_count": null,
   "metadata": {},
   "outputs": [],
   "source": [
    "# Exercise 2.3 solutions\n",
    "\n",
    "#f, ax = plt.subplots(figsize=(10,6))\n",
    "\n",
    "# Make histogram, 25 bins looks reasonable.\n",
    "#ax.hist(titanic['age'], bins = 25, color = 'coral')\n",
    "\n",
    "# decorate\n",
    "#ax.set_ylabel('Frequency')\n",
    "#ax.set_xlabel('Passenger Age')\n",
    "#ax.set_title('Age Distribution of Titanic Passengers')\n",
    "toggle_code(title='Solutions')"
   ]
  },
  {
   "cell_type": "code",
   "execution_count": null,
   "metadata": {},
   "outputs": [],
   "source": [
    "# Exercise 2.4 solutions\n",
    "\n",
    "# simple boxplot\n",
    "#f, ax = plt.subplots(figsize = (6,6))\n",
    "\n",
    "# remove na values\n",
    "#fare = titanic[titanic['fare'].notnull()]\n",
    "\n",
    "# make a boxplot\n",
    "#grps = fare.groupby('embarked')['fare']\n",
    "\n",
    "#ax.boxplot([grps.get_group('S'),grps.get_group('Q'),grps.get_group('C')],\n",
    "#           labels=['Southampton', 'Queenstown', 'Cherbourg'])\n",
    "\n",
    "# label the y axis\n",
    "#ax.set_ylabel('Fare');\n",
    "\n",
    "toggle_code(title='Solutions')"
   ]
  },
  {
   "cell_type": "code",
   "execution_count": null,
   "metadata": {},
   "outputs": [],
   "source": [
    "# Exercise 2.5 solutions\n",
    "\n",
    "# sharey as both axis will be survived proportion.\n",
    "#f, (ax1, ax2) = plt.subplots(1,2,figsize=(12,6), sharey = True)\n",
    "\n",
    "# Plot ax1\n",
    "#titanic.groupby('child')['survived'].mean().plot(kind='bar', ax=ax1)\n",
    "# decorate ax1\n",
    "#ax1.set_xticklabels(['Adult','Child'], rotation = 0)\n",
    "#ax1.set_xlabel('Age Group')\n",
    "#ax1.set_ylabel('Proportion of Passengers who Survived')\n",
    "\n",
    "# Plot ax2\n",
    "#titanic['lone_passenger'] = ((titanic['sibsp'] == 0) & (titanic['parch'] == 0)).astype(int)\n",
    "#titanic.groupby('lone_passenger')['survived'].mean().plot(kind='bar', color = ['darkcyan','deeppink'], ax=ax2)\n",
    "# decorate ax2\n",
    "#ax2.set_xticklabels(['Passenger in Group','Lone Passenger'], rotation = 0)\n",
    "#ax2.set_xlabel('Passenger Status')\n",
    "\n",
    "# Add a figure title\n",
    "#f.suptitle(\"Titanic Survival by Passenger Age and by Group Status\");\n",
    "\n",
    "toggle_code(title='Solutions')"
   ]
  },
  {
   "cell_type": "markdown",
   "metadata": {},
   "source": [
    "## 9. Saving/Exporting Plots\n",
    "\n",
    "Saving and Exporting plots is really simple. Just make a plot, and then call `plt.savefig()` at the end with the appropriate parameters."
   ]
  },
  {
   "cell_type": "code",
   "execution_count": null,
   "metadata": {},
   "outputs": [],
   "source": [
    "# create a figure and an axis instance\n",
    "fig, ax = plt.subplots(figsize=(8,4))\n",
    "\n",
    "# Get survivor proportions by passenger classes\n",
    "titanic.groupby('pclass')['survived'].mean().plot(kind='barh', ax=ax)\n",
    "\n",
    "# Decorate\n",
    "ax.set_title('Titanic Passenger Survival by Class')\n",
    "ax.set_xlabel('Proportion of Passengers Survived')\n",
    "ax.set_ylabel('Passenger Class')\n",
    "\n",
    "# Now save this figure\n",
    "plt.savefig('../Save/example.png', dpi=200, bbox_inches = 'tight')"
   ]
  },
  {
   "cell_type": "markdown",
   "metadata": {},
   "source": [
    "In the `savefig()` function I have set the format (the 'png' image format) by using the appropriate file extension (.png) as part of the filepath for saving the figure. Because 'png' is an image file type, I can also set the resolution that I want the image to be with the dpi (dots per inch). Publications often ask for a minimum of 300 dpi.\n",
    "\n",
    "Matplotlib can save figure in a range of different filetypes as standard, including:\n",
    "* Image (Raster) Formats\n",
    "    * .png - 'portable network graphics'\n",
    "    * .jpg /.jpeg - 'joint photographic experts group'\n",
    "    * .tif /.tiff - 'tagged image file format'\n",
    "* Vector Formats\n",
    "    * .ps /.eps - Postscript/ Encapsulated Postscript\n",
    "    * .pdf - 'portable document format'\n",
    "    * .svg - 'scalable vector graphics'\n",
    "    \n",
    "Image file formats are basically regular grids of cells each with a value representing how that cell should be shaded. These kind of files are easily manipulated in software like Adobe Photoshop or GIMP (open source photoshop) if you want to do additional touch-ups or graphic design.\n",
    "\n",
    "Vector file formats encode all the elements of the plot as paths, this means they don't have a resolution, the quality of the output doesn't degrade the more you zoom in, unlike a raster image. The .pdf is a widely used and highly shareable file format which can be opened by modern web browsers. The postscript formats are primarily used by publishers for printing, you may find that official publications or academic journals request figures as .ps or .eps. The .svg format is an open vector file format that can be used with software like Adobe Illustrator or Inkscape (open source illustrator) to make additional adjustments to the figure.\n",
    "\n",
    "In the cell below try saving the figure as a .pdf type, then have a look at it by opening the pdf file. Compare the file to the png that you've already saved. If you zoom in the text should get 'fuzzy' in the png, but not in the pdf. That is the key difference between vector and raster, one has an implicit resolution and hence an ideal scale at which it should be viewed to avoid distortion.\n",
    "\n",
    "Note that I have to recreate the plot as plots are specific to code cells in the notebook."
   ]
  },
  {
   "cell_type": "code",
   "execution_count": null,
   "metadata": {},
   "outputs": [],
   "source": [
    "# create a figure and an axis instance\n",
    "fig, ax = plt.subplots(figsize=(8,4))\n",
    "\n",
    "# Get survivor proportions by passenger classes\n",
    "titanic.groupby('pclass')['survived'].mean().plot(kind='barh', ax=ax)\n",
    "\n",
    "# Decorate\n",
    "ax.set_title('Titanic Passenger Survival by Class')\n",
    "ax.set_xlabel('Proportion of Passengers Survived')\n",
    "ax.set_ylabel('Passenger Class')\n",
    "\n",
    "# Now save the figure again as pdf\n",
    "plt.savefig()"
   ]
  },
  {
   "cell_type": "markdown",
   "metadata": {},
   "source": [
    "# Consolidation\n",
    "\n",
    "Matplotlib is a very large package that forms the core of python's plotting capabilities. In this vignette you have barely scratched the surface of it's capabilities! Hopefully though you should have a sense of how to make a range of simple visualisations. One of Matplotlib's huge advantages is that you can plot almost anything using it, however sometimes actually achieving this can be tricky. Nonetheless, it is an important library to have at least a passing familiarity as other libraries make use of matplotlib as a backend for specific purposes.\n",
    "\n",
    "A great example of this is [seaborn](https://seaborn.pydata.org), which you may find much more accessible for making data visualisation. In fact, seaborn actually implements a number of interesting and novel plotting methods that aren't directly available through matplotlib. In particular it makes plotting grouped data much easier (see example below).\n",
    "\n",
    "If interactive, web-style graphics are more your thing, then [bokeh](https://bokeh.pydata.org/) (pronounced as either: bo-kay or bo-kuh) might be worth your time, the simple scatter plot example is reproduced below. Try interacting with the plot.\n",
    "\n",
    "Finally, if you are an R user who has familiarity using ggplot2, or are otherwise interested in the 'grammar of graphics' (gg) approach, then 'plotnine' may interest you. However, it is not currently part fo the anaconda distribution, so you need to install it (use: 'pip install plotnine' from the command line), unfortunately this can be tricky. As a result plotnine is not demonstrated below.\n",
    "\n",
    "## 10. Seaborn"
   ]
  },
  {
   "cell_type": "code",
   "execution_count": null,
   "metadata": {},
   "outputs": [],
   "source": [
    "# import seaborn\n",
    "import seaborn as sns"
   ]
  },
  {
   "cell_type": "code",
   "execution_count": null,
   "metadata": {},
   "outputs": [],
   "source": [
    "# make a swarmplot - can take a moment to produce.\n",
    "f, ax = plt.subplots(figsize=(6,6))\n",
    "sns.swarmplot(x = 'sex', y = 'fare', hue = 'child', data = titanic, ax=ax);"
   ]
  },
  {
   "cell_type": "markdown",
   "metadata": {},
   "source": [
    "## 11. Bokeh"
   ]
  },
  {
   "cell_type": "code",
   "execution_count": null,
   "metadata": {},
   "outputs": [],
   "source": [
    "from bokeh.io import output_notebook, show\n",
    "from bokeh.plotting import figure"
   ]
  },
  {
   "cell_type": "code",
   "execution_count": null,
   "metadata": {},
   "outputs": [],
   "source": [
    "output_notebook()"
   ]
  },
  {
   "cell_type": "code",
   "execution_count": null,
   "metadata": {},
   "outputs": [],
   "source": [
    "# create a new plot with default tools, using figure\n",
    "p = figure(plot_width=600, plot_height=600, title = 'Titanic Passengers Age against Fare Paid.')\n",
    "\n",
    "# add a circle renderer with x and y coordinates, size, color, and alpha\n",
    "p.circle(titanic['fare'], titanic['age'], size=8, line_color=\"navy\", fill_color=\"orange\", fill_alpha=0.5)\n",
    "\n",
    "# Add some decoration\n",
    "p.xaxis.axis_label = 'Fare'\n",
    "p.yaxis.axis_label = 'Age'\n",
    "\n",
    "show(p) # show the results"
   ]
  }
 ],
 "metadata": {
  "kernelspec": {
   "display_name": "Python 3",
   "language": "python",
   "name": "python3"
  },
  "language_info": {
   "codemirror_mode": {
    "name": "ipython",
    "version": 3
   },
   "file_extension": ".py",
   "mimetype": "text/x-python",
   "name": "python",
   "nbconvert_exporter": "python",
   "pygments_lexer": "ipython3",
   "version": "3.7.6"
  }
 },
 "nbformat": 4,
 "nbformat_minor": 2
}
