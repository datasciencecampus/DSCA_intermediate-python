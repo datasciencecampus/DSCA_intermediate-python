{
 "cells": [
  {
   "cell_type": "markdown",
   "metadata": {},
   "source": [
    "## From Pandas"
   ]
  },
  {
   "cell_type": "code",
   "execution_count": null,
   "metadata": {
    "collapsed": true
   },
   "outputs": [],
   "source": [
    "# print out the number of rows and columns\n",
    "print(\"There are {} rows and {} columns in the titanic dataset\".format(numrows, numcols))"
   ]
  },
  {
   "cell_type": "code",
   "execution_count": null,
   "metadata": {
    "collapsed": true
   },
   "outputs": [],
   "source": [
    "#colnames = colnames.tolist()\n",
    "# or"
   ]
  },
  {
   "cell_type": "markdown",
   "metadata": {},
   "source": [
    "## From NewVar"
   ]
  },
  {
   "cell_type": "markdown",
   "metadata": {},
   "source": [
    "## 3.4 Classifying Numerical Values using pd.cut() and pd.qcut()\n",
    "\n",
    "New columns can be created directly when classifying numerical data using `pd.cut()` or `pd.qcut()`\n",
    "\n",
    "`cut()` has two behaviours. The default is to create a given number of equal-sized bins (e.g. the width of all bins are the same), however if you provide bins it will cut according to those bins.\n",
    "\n",
    "`qcut()` is similar, but rather than equal-sized bins it created bins that have (roughly) equal numbers of observations in them. These bins could have very different widths."
   ]
  },
  {
   "cell_type": "code",
   "execution_count": null,
   "metadata": {
    "collapsed": true
   },
   "outputs": [],
   "source": [
    "# Divide fare into 3 equally sized classes.\n",
    "titanic['fare_3class'] = pd.cut(titanic['fare'], 3, labels=['low','mid','high'])\n",
    "titanic.head()"
   ]
  },
  {
   "cell_type": "code",
   "execution_count": null,
   "metadata": {
    "collapsed": true
   },
   "outputs": [],
   "source": [
    "# Divide fare into tertile.\n",
    "titanic['fare_tertiles'] = pd.qcut(titanic['fare'], 3, labels=['low','mid','high'])\n",
    "titanic.head()"
   ]
  },
  {
   "cell_type": "markdown",
   "metadata": {},
   "source": [
    "## From CrossTab"
   ]
  },
  {
   "cell_type": "markdown",
   "metadata": {},
   "source": [
    "# Crosstabs, Contingency, and Two-Way Tables\n",
    "\n",
    "Similar to aggregation with `.groupby()` a cross-tabulation table allows you to generate frequencies for combinations of groups of data.\n",
    "\n",
    "## 7.1 Crosstabulation using the `pd.crosstab()` top-level function\n",
    "\n",
    "Crosstabs are often also refered to as 'contingency tables' and 'two-way tables' and, although there may be some subtle distinctions, these all refer to the setting of one categorical variable against another, creating a matrix, and then counting, or otherwise aggregating by cell values.\n",
    "\n",
    "To create cross-tabulations, you can use the `pandas.crosstab()` function.\n",
    "\n",
    "Let's have a look at a simple example:"
   ]
  },
  {
   "cell_type": "code",
   "execution_count": null,
   "metadata": {
    "collapsed": true
   },
   "outputs": [],
   "source": [
    "# crosstab of survived against sex\n",
    "pd.crosstab(titanic['survived'],titanic['sex'])"
   ]
  },
  {
   "cell_type": "markdown",
   "metadata": {},
   "source": [
    "The basic use of `.crosstab()` requires that you input the row category ('survived') and the column category ('sex'). This produces cell counts for the cross-tabulation of the two categories, so there were 339 passengers who were both 'female' and 'survived'.\n",
    "\n",
    "The basic crosstab can be augmented with some additional parameters:\n",
    "* `margins` - set to `True` to add row and column totals.\n",
    "* `normalize` - create row or column proportions, or overall proportions, rather than frequencies. Keywords are 'index', 'columns' or 'all'."
   ]
  },
  {
   "cell_type": "code",
   "execution_count": null,
   "metadata": {
    "collapsed": true
   },
   "outputs": [],
   "source": [
    "# crosstab of survived against sex\n",
    "pd.crosstab(titanic['survived'],titanic['sex'], margins=True, normalize = 'columns')"
   ]
  },
  {
   "cell_type": "markdown",
   "metadata": {},
   "source": [
    "# Exercise 6\n",
    "\n",
    "1. What is the average fare paid by men and women?\n",
    "2. What is the median fare paid by men and women in each different class?\n",
    "3. Create a crosstab for 'survived' and 'pclass', which class is the best for survival?"
   ]
  },
  {
   "cell_type": "code",
   "execution_count": null,
   "metadata": {
    "collapsed": true
   },
   "outputs": [],
   "source": [
    "## Question 1\n",
    "\n",
    "#print(titanic.groupby('sex')['fare'].mean(),'\\n')\n",
    "\n",
    "## Question 2\n",
    "\n",
    "#print(titanic.groupby(['sex','pclass'])['fare'].median(),'\\n')\n",
    "\n",
    "## Question 3\n",
    "\n",
    "#print(pd.crosstab(titanic['survived'],titanic['pclass'], margins=True, normalize = 'columns'))"
   ]
  }
 ],
 "metadata": {
  "kernelspec": {
   "display_name": "Python 3",
   "language": "python",
   "name": "python3"
  },
  "language_info": {
   "codemirror_mode": {
    "name": "ipython",
    "version": 3
   },
   "file_extension": ".py",
   "mimetype": "text/x-python",
   "name": "python",
   "nbconvert_exporter": "python",
   "pygments_lexer": "ipython3",
   "version": "3.7.6"
  }
 },
 "nbformat": 4,
 "nbformat_minor": 2
}
